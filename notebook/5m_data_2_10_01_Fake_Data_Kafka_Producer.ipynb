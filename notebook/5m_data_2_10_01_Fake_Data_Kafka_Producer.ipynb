{
  "cells": [
    {
      "cell_type": "code",
      "execution_count": 1,
      "metadata": {
        "id": "2GseR_igvnWA"
      },
      "outputs": [],
      "source": [
        "import random\n",
        "import time\n",
        "from faker import Faker\n",
        "from faker.providers import BaseProvider\n",
        "\n",
        "# Adding a PizzaProvider with 3 methods:\n",
        "#   * pizza_name to retrieve the name of the basic pizza,\n",
        "#   * pizza_topping for additional toppings\n",
        "#   * pizza_shop to retrieve one of the shops available\n",
        "# https://github.com/Aiven-Labs/python-fake-data-producer-for-apache-kafka/tree/main\n",
        "\n",
        "\n",
        "class PizzaProvider(BaseProvider):\n",
        "    def pizza_name(self):\n",
        "        valid_pizza_names = [\n",
        "            \"Margherita\",\n",
        "            \"Marinara\",\n",
        "            \"Diavola\",\n",
        "            \"Mari & Monti\",\n",
        "            \"Salami\",\n",
        "            \"Peperoni\",\n",
        "        ]\n",
        "        return random.choice(valid_pizza_names)\n",
        "\n",
        "    def pizza_topping(self):\n",
        "        available_pizza_toppings = [\n",
        "            \"🍅 tomato\",\n",
        "            \"🧀 blue cheese\",\n",
        "            \"🥚 egg\",\n",
        "            \"🫑 green peppers\",\n",
        "            \"🌶️ hot pepper\",\n",
        "            \"🥓 bacon\",\n",
        "            \"🫒 olives\",\n",
        "            \"🧄 garlic\",\n",
        "            \"🐟 tuna\",\n",
        "            \"🧅 onion\",\n",
        "            \"🍍 pineapple\",\n",
        "            \"🍓 strawberry\",\n",
        "            \"🍌 banana\",\n",
        "        ]\n",
        "        return random.choice(available_pizza_toppings)\n",
        "\n",
        "    def pizza_shop(self):\n",
        "        pizza_shops = [\n",
        "            \"Marios Pizza\",\n",
        "            \"Luigis Pizza\",\n",
        "            \"Circular Pi Pizzeria\",\n",
        "            \"Ill Make You a Pizza You Can\" \"t Refuse\",\n",
        "            \"Mammamia Pizza\",\n",
        "            \"Its-a me! Mario Pizza!\",\n",
        "        ]\n",
        "        return random.choice(pizza_shops)\n",
        "\n",
        "    def order_cost(self):\n",
        "        return round(random.random() * 50, 2)\n",
        "\n",
        "    def produce_msg(\n",
        "        self,\n",
        "        FakerInstance,\n",
        "        ordercount=1,\n",
        "        max_pizzas_in_order=5,\n",
        "        max_toppings_in_pizza=3,\n",
        "    ):\n",
        "        shop = FakerInstance.pizza_shop()\n",
        "        # Each Order can have 1-10 pizzas in it\n",
        "        pizzas = []\n",
        "        for pizza in range(random.randint(1, max_pizzas_in_order)):\n",
        "            # Each Pizza can have 0-5 additional toppings on it\n",
        "            toppings = []\n",
        "            for topping in range(random.randint(0, max_toppings_in_pizza)):\n",
        "                toppings.append(FakerInstance.pizza_topping())\n",
        "            pizzas.append(\n",
        "                {\n",
        "                    \"pizzaName\": FakerInstance.pizza_name(),\n",
        "                    \"additionalToppings\": toppings,\n",
        "                }\n",
        "            )\n",
        "        # message composition\n",
        "        message = {\n",
        "            \"id\": ordercount,\n",
        "            \"shop\": shop,\n",
        "            \"name\": FakerInstance.unique.name(),\n",
        "            \"phoneNumber\": FakerInstance.unique.phone_number(),\n",
        "            \"address\": FakerInstance.address(),\n",
        "            \"pizzas\": pizzas,\n",
        "            \"timestamp\": int(time.time() * 1000),\n",
        "        }\n",
        "        key = {\"shop\": shop}\n",
        "        return message, key"
      ]
    },
    {
      "cell_type": "code",
      "execution_count": 2,
      "metadata": {
        "id": "ZmXPvtjQwcFy"
      },
      "outputs": [],
      "source": [
        "fake = Faker()\n",
        "fake.add_provider(PizzaProvider)\n",
        "Faker.seed(1234)"
      ]
    },
    {
      "cell_type": "code",
      "execution_count": 3,
      "metadata": {
        "id": "ONm3pPErwLPY"
      },
      "outputs": [],
      "source": [
        "# creating function to generate the pizza Order\n",
        "def produce_pizza_order (orderid = 1):\n",
        "    shop = fake.pizza_shop()\n",
        "    # Each Order can have 1-5 pizzas in it\n",
        "    pizzas = []\n",
        "    for pizza in range(random.randint(1, 5)):\n",
        "        # Each Pizza can have 0-3 additional toppings on it\n",
        "        toppings = []\n",
        "        for topping in range(random.randint(0, 3)):\n",
        "            toppings.append(fake.pizza_topping())\n",
        "        pizzas.append({\n",
        "            'pizzaName': fake.pizza_name(),\n",
        "            'additionalToppings': toppings\n",
        "        })\n",
        "    # message composition\n",
        "    message = {\n",
        "        'id': orderid,\n",
        "        'shop': shop,\n",
        "        'name': fake.unique.name(),\n",
        "        'phoneNumber': fake.unique.phone_number(),\n",
        "        'address': fake.address(),\n",
        "        'pizzas': pizzas,\n",
        "        'cost': fake.order_cost(),\n",
        "        \"timestamp\": int(time.time() * 1000),\n",
        "    }\n",
        "    key = {\"shop\": shop}\n",
        "    return message, key"
      ]
    },
    {
      "cell_type": "code",
      "execution_count": 4,
      "metadata": {
        "colab": {
          "base_uri": "https://localhost:8080/",
          "height": 462
        },
        "id": "3UqtymaSws1V",
        "outputId": "3c70c2eb-db0c-4bbe-9394-a48544f7d4f3"
      },
      "outputs": [],
      "source": [
        "import json\n",
        "from kafka import KafkaProducer\n",
        "\n",
        "producer = KafkaProducer(\n",
        "  bootstrap_servers=['localhost:9092'],\n",
        "  value_serializer=lambda v: json.dumps(v).encode('ascii'),\n",
        "  key_serializer=lambda v: json.dumps(v).encode('ascii')\n",
        ")"
      ]
    },
    {
      "cell_type": "code",
      "execution_count": null,
      "metadata": {
        "id": "iCf4uqNLnLDD"
      },
      "outputs": [],
      "source": [
        "topic_name = 'pizza-orders'\n",
        "i = 0\n",
        "\n",
        "while i <  5:\n",
        "    message, key = produce_pizza_order(i)\n",
        "\n",
        "    # print(\"Sending: {}\".format(message))\n",
        "    # sending the message to Kafka\n",
        "    producer.send(topic_name,\n",
        "                  key=key,\n",
        "                  value=message)\n",
        "    # 1-2 seconds of sleep time before the next message\n",
        "    time.sleep(random.randint(1,2))\n",
        "\n",
        "    # Force sending of all messages\n",
        "    if (i % 100) == 0:\n",
        "        producer.flush()\n",
        "    i = i+1\n",
        "\n",
        "producer.flush()"
      ]
    },
    {
      "cell_type": "markdown",
      "metadata": {},
      "source": [
        "### Note: Do not run the below cell and close the producer until you have finished all 3 notebooks!"
      ]
    },
    {
      "cell_type": "code",
      "execution_count": null,
      "metadata": {
        "id": "fDzIIrbjxiKq"
      },
      "outputs": [],
      "source": [
        "# producer.close()"
      ]
    }
  ],
  "metadata": {
    "colab": {
      "provenance": []
    },
    "kernelspec": {
      "display_name": "kafka",
      "language": "python",
      "name": "python3"
    },
    "language_info": {
      "codemirror_mode": {
        "name": "ipython",
        "version": 3
      },
      "file_extension": ".py",
      "mimetype": "text/x-python",
      "name": "python",
      "nbconvert_exporter": "python",
      "pygments_lexer": "ipython3",
      "version": "3.10.13"
    }
  },
  "nbformat": 4,
  "nbformat_minor": 0
}
